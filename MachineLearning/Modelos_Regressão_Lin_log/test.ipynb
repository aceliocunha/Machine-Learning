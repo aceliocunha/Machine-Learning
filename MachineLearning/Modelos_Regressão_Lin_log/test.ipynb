{
 "cells": [
  {
   "cell_type": "code",
   "id": "bacd3d18-e8f7-44c5-a942-c2258998d049",
   "metadata": {
    "ExecuteTime": {
     "end_time": "2025-04-12T17:17:56.516673Z",
     "start_time": "2025-04-12T17:17:56.512861Z"
    }
   },
   "source": [
    "import numpy as np\n",
    "from LinearReg import LinearReg\n",
    "from LinearRegGd import LinearRegGd\n",
    "from reg_log import LogisticRegression\n",
    "from traintest import train_tesRg_yint,train_tesRg_yflot, train_test_RegGd\n",
    "import utils as ut\n"
   ],
   "outputs": [],
   "execution_count": 2
  },
  {
   "cell_type": "code",
   "id": "0ee1d90b-aed6-464f-bfe0-7177e7eb3505",
   "metadata": {
    "ExecuteTime": {
     "end_time": "2025-04-12T00:46:53.422218Z",
     "start_time": "2025-04-12T00:46:53.417268Z"
    }
   },
   "source": [
    "X, y = ut.makeregression()"
   ],
   "outputs": [],
   "execution_count": 11
  },
  {
   "cell_type": "code",
   "id": "e602f594-6349-4503-9764-5abac5d384b8",
   "metadata": {
    "ExecuteTime": {
     "end_time": "2025-04-12T00:46:54.501378Z",
     "start_time": "2025-04-12T00:46:54.469411Z"
    }
   },
   "source": [
    "train_tesRg_yflot(X,y, Model=LinearReg)"
   ],
   "outputs": [
    {
     "name": "stdout",
     "output_type": "stream",
     "text": [
      "Tempo médio de execução: 0.0012019157409667968\n",
      "Desvio padrão do tempo: 0.0004953671627177844\n",
      "Tempo total: 0.012019157409667969\n",
      "############################# Resultados ########################################\n",
      "            R²       MAE       RMSE     Tempo\n",
      "mean  0.986051  8.155410  10.415249  0.001202\n",
      "std   0.003413  0.798679   0.977829  0.000522\n"
     ]
    }
   ],
   "execution_count": 12
  },
  {
   "metadata": {
    "ExecuteTime": {
     "end_time": "2025-04-12T00:54:30.384483Z",
     "start_time": "2025-04-12T00:54:28.082162Z"
    }
   },
   "cell_type": "code",
   "source": "train_test_RegGd(X,y, Model=LinearRegGd)",
   "id": "9771f9977b4a68b0",
   "outputs": [
    {
     "name": "stdout",
     "output_type": "stream",
     "text": [
      "Melhores parâmetros: {'learning_rate': 0.01, 'epochs': 1000}\n",
      "Tempo médio de execução: 0.0053327083587646484\n",
      "Desvio padrão do tempo: 0.0016402914112701996\n",
      "Tempo total: 0.053327083587646484\n",
      "           R²       MAE       RMSE     Tempo\n",
      "mean  0.98523  8.206179  10.566090  0.005333\n",
      "std   0.00345  0.552276   0.688282  0.001729\n"
     ]
    }
   ],
   "execution_count": 25
  },
  {
   "cell_type": "code",
   "id": "0b210092-3967-40f8-8ef7-a0a66ed3d49f",
   "metadata": {
    "ExecuteTime": {
     "end_time": "2025-04-12T00:48:16.785112Z",
     "start_time": "2025-04-12T00:48:16.773855Z"
    }
   },
   "source": [
    "X_iris, y_iris = ut.iris()\n",
    "y_iris[y_iris==0] = -1\n",
    "#train_tes(X_iris,y_iris, Model=LinearReg)"
   ],
   "outputs": [],
   "execution_count": 16
  },
  {
   "cell_type": "code",
   "id": "d5491a2a-9a5f-48e6-8bc2-f2cd9a7e071d",
   "metadata": {
    "ExecuteTime": {
     "end_time": "2025-04-12T00:47:41.661047Z",
     "start_time": "2025-04-12T00:47:41.657251Z"
    }
   },
   "source": "#",
   "outputs": [],
   "execution_count": 14
  },
  {
   "cell_type": "code",
   "id": "9de8f9c7-dcea-4cba-a5b9-c6fe4f978a75",
   "metadata": {
    "ExecuteTime": {
     "end_time": "2025-04-12T00:48:23.461312Z",
     "start_time": "2025-04-12T00:48:23.452062Z"
    }
   },
   "source": [
    "y_iris"
   ],
   "outputs": [
    {
     "data": {
      "text/plain": [
       "array([-1, -1, -1, -1, -1, -1, -1, -1, -1, -1, -1, -1, -1, -1, -1, -1, -1,\n",
       "       -1, -1, -1, -1, -1, -1, -1, -1, -1, -1, -1, -1, -1, -1, -1, -1, -1,\n",
       "       -1, -1, -1, -1, -1, -1, -1, -1, -1, -1, -1, -1, -1, -1, -1, -1, -1,\n",
       "       -1, -1, -1, -1, -1, -1, -1, -1, -1, -1, -1, -1, -1, -1, -1, -1, -1,\n",
       "       -1, -1, -1, -1, -1, -1, -1, -1, -1, -1, -1, -1, -1, -1, -1, -1, -1,\n",
       "       -1, -1, -1, -1, -1, -1, -1, -1, -1, -1, -1, -1, -1, -1, -1,  1,  1,\n",
       "        1,  1,  1,  1,  1,  1,  1,  1,  1,  1,  1,  1,  1,  1,  1,  1,  1,\n",
       "        1,  1,  1,  1,  1,  1,  1,  1,  1,  1,  1,  1,  1,  1,  1,  1,  1,\n",
       "        1,  1,  1,  1,  1,  1,  1,  1,  1,  1,  1,  1,  1,  1])"
      ]
     },
     "execution_count": 17,
     "metadata": {},
     "output_type": "execute_result"
    }
   ],
   "execution_count": 17
  },
  {
   "cell_type": "code",
   "id": "b1462286-213f-4619-b617-3f8fb0ab1003",
   "metadata": {
    "ExecuteTime": {
     "end_time": "2025-04-12T00:48:36.677944Z",
     "start_time": "2025-04-12T00:48:36.665634Z"
    }
   },
   "source": [
    "y_iris = y_iris.astype(np.float64)\n",
    "y_iris"
   ],
   "outputs": [
    {
     "data": {
      "text/plain": [
       "array([-1., -1., -1., -1., -1., -1., -1., -1., -1., -1., -1., -1., -1.,\n",
       "       -1., -1., -1., -1., -1., -1., -1., -1., -1., -1., -1., -1., -1.,\n",
       "       -1., -1., -1., -1., -1., -1., -1., -1., -1., -1., -1., -1., -1.,\n",
       "       -1., -1., -1., -1., -1., -1., -1., -1., -1., -1., -1., -1., -1.,\n",
       "       -1., -1., -1., -1., -1., -1., -1., -1., -1., -1., -1., -1., -1.,\n",
       "       -1., -1., -1., -1., -1., -1., -1., -1., -1., -1., -1., -1., -1.,\n",
       "       -1., -1., -1., -1., -1., -1., -1., -1., -1., -1., -1., -1., -1.,\n",
       "       -1., -1., -1., -1., -1., -1., -1., -1., -1.,  1.,  1.,  1.,  1.,\n",
       "        1.,  1.,  1.,  1.,  1.,  1.,  1.,  1.,  1.,  1.,  1.,  1.,  1.,\n",
       "        1.,  1.,  1.,  1.,  1.,  1.,  1.,  1.,  1.,  1.,  1.,  1.,  1.,\n",
       "        1.,  1.,  1.,  1.,  1.,  1.,  1.,  1.,  1.,  1.,  1.,  1.,  1.,\n",
       "        1.,  1.,  1.,  1.,  1.,  1.,  1.])"
      ]
     },
     "execution_count": 18,
     "metadata": {},
     "output_type": "execute_result"
    }
   ],
   "execution_count": 18
  },
  {
   "cell_type": "code",
   "id": "877eefe4-6803-49d4-b05c-e510dfe1fc37",
   "metadata": {
    "ExecuteTime": {
     "end_time": "2025-04-12T00:48:42.730526Z",
     "start_time": "2025-04-12T00:48:42.668773Z"
    }
   },
   "source": [
    "train_tesRg_yint(X_iris,y_iris, Model=LinearReg)"
   ],
   "outputs": [
    {
     "name": "stdout",
     "output_type": "stream",
     "text": [
      "Tempo médio de execução: 0.004064440727233887\n",
      "Desvio padrão do tempo: 0.001499936031790601\n",
      "Tempo total: 0.04064440727233887\n",
      "############################# Resultados ########################################\n",
      "            R²       MAE      RMSE     Tempo\n",
      "mean  0.924444  0.887042  0.879474  0.004064\n",
      "std   0.042164  0.113682  0.071509  0.001581\n"
     ]
    }
   ],
   "execution_count": 19
  },
  {
   "metadata": {
    "ExecuteTime": {
     "end_time": "2025-04-12T01:58:48.133726Z",
     "start_time": "2025-04-12T01:58:48.129332Z"
    }
   },
   "cell_type": "code",
   "source": "X, y = ut.makeregression()",
   "id": "5158d16c31bfd6d",
   "outputs": [],
   "execution_count": 11
  },
  {
   "metadata": {
    "ExecuteTime": {
     "end_time": "2025-04-12T01:58:59.592434Z",
     "start_time": "2025-04-12T01:58:57.325271Z"
    }
   },
   "cell_type": "code",
   "source": "train_test_RegGd(X,y, Model=LogisticRegression)",
   "id": "2345d94a840f0490",
   "outputs": [
    {
     "name": "stdout",
     "output_type": "stream",
     "text": [
      "Melhores parâmetros: {'learning_rate': 0.01, 'epochs': 500}\n",
      "Tempo médio de execução: 0.003771519660949707\n",
      "Desvio padrão do tempo: 2.837570748699089e-05\n",
      "Tempo total: 0.03771519660949707\n",
      "            R²       MAE       RMSE     Tempo\n",
      "mean  0.933649  8.910281  11.229081  0.003772\n",
      "std   0.013022  0.911240   1.109317  0.000030\n"
     ]
    }
   ],
   "execution_count": 13
  },
  {
   "metadata": {
    "ExecuteTime": {
     "end_time": "2025-04-12T17:18:57.562665Z",
     "start_time": "2025-04-12T17:18:57.556187Z"
    }
   },
   "cell_type": "code",
   "source": "X, y = ut.get_random_noral()",
   "id": "89c90a01ad30835b",
   "outputs": [],
   "execution_count": 3
  },
  {
   "metadata": {
    "ExecuteTime": {
     "end_time": "2025-04-12T17:20:48.448271Z",
     "start_time": "2025-04-12T17:20:48.407967Z"
    }
   },
   "cell_type": "code",
   "source": "train_tesRg_yint(X, y, Model=LinearReg)",
   "id": "c4a97e4d95f69268",
   "outputs": [
    {
     "name": "stdout",
     "output_type": "stream",
     "text": [
      "Tempo médio de execução: 0.0025773048400878906\n",
      "Desvio padrão do tempo: 0.0018480695468445737\n",
      "Tempo total: 0.025773048400878906\n",
      "############################# Resultados ########################################\n",
      "       R²  MAE  RMSE     Tempo\n",
      "mean  1.0  1.0   1.0  0.002577\n",
      "std   0.0  0.0   0.0  0.001948\n"
     ]
    }
   ],
   "execution_count": 6
  },
  {
   "metadata": {},
   "cell_type": "code",
   "outputs": [],
   "execution_count": null,
   "source": "",
   "id": "507eab30351851e4"
  }
 ],
 "metadata": {
  "kernelspec": {
   "display_name": "Python 3 (ipykernel)",
   "language": "python",
   "name": "python3"
  },
  "language_info": {
   "codemirror_mode": {
    "name": "ipython",
    "version": 3
   },
   "file_extension": ".py",
   "mimetype": "text/x-python",
   "name": "python",
   "nbconvert_exporter": "python",
   "pygments_lexer": "ipython3",
   "version": "3.10.12"
  }
 },
 "nbformat": 4,
 "nbformat_minor": 5
}
